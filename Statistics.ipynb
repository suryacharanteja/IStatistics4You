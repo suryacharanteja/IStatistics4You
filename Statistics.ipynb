{
 "cells": [
  {
   "cell_type": "markdown",
   "id": "b233ce6a",
   "metadata": {},
   "source": [
    "# Mathematics vs Statistics"
   ]
  },
  {
   "cell_type": "code",
   "execution_count": 1,
   "id": "62b40dde",
   "metadata": {},
   "outputs": [
    {
     "ename": "SyntaxError",
     "evalue": "invalid syntax (2231575358.py, line 1)",
     "output_type": "error",
     "traceback": [
      "\u001b[1;36m  Cell \u001b[1;32mIn[1], line 1\u001b[1;36m\u001b[0m\n\u001b[1;33m    Mathematics is a branch of science that deals with the study of numbers, quantities, and shapes\u001b[0m\n\u001b[1;37m                     ^\u001b[0m\n\u001b[1;31mSyntaxError\u001b[0m\u001b[1;31m:\u001b[0m invalid syntax\n"
     ]
    }
   ],
   "source": [
    "Mathematics is a branch of science that deals with the study of numbers, quantities, and shapes\n",
    "1. logical reasoning\n",
    "2. decution\n",
    "3. abstraction\n",
    "4. relations \n",
    "\n",
    "Statistics, is the science of collecting, analyzing, and interpretingg data. \n",
    "1. mathematical methods,\n",
    "\n",
    "------------------------------------------------------------------------\n",
    "focus and applications are completely different:\n",
    "1. Mathematics deals with abstract concepts and relationships\n",
    "2. statistics deals with real-world data and making inferences about populations based on samples.\n",
    "\n",
    "\n",
    "------------------------------------------------------------------------\n",
    "Mathematics does not go well with errors and uncertainities\n",
    "\n",
    "Statistics does well with uncertainities, infact, they thrive in uncertainities."
   ]
  },
  {
   "cell_type": "markdown",
   "id": "e291e8d2",
   "metadata": {},
   "source": [
    "# Data Science"
   ]
  },
  {
   "cell_type": "code",
   "execution_count": null,
   "id": "d8b8d7af",
   "metadata": {},
   "outputs": [],
   "source": [
    "the answer lies in the difference between explaining and predicting\n",
    "\n",
    "\n",
    "Data Product Engineering:\n",
    "    process of desigining, building, testing, deploying and maintaining data-driven products\n",
    "    \n",
    "    output: data products\n",
    "        recommendation engings\n",
    "        predictive models\n",
    "        fraud detection systems\n",
    "    expertise:\n",
    "        data processing,  data storage, data modelling, data visualization, software development\n",
    "        "
   ]
  },
  {
   "cell_type": "code",
   "execution_count": null,
   "id": "f1d5950a",
   "metadata": {},
   "outputs": [],
   "source": [
    "4-paradigms of analytics:\n",
    "    descriptive analytics:\n",
    "    collecting the historical data: descriptive analytics:\n",
    "            food, temperature, blood pressure, \n",
    "    \n",
    "    diagnostic analytics\n",
    "    based on the results descriptive analysis, patterns, trends, \n",
    "    1. loose motions\n",
    "    2. the food you had on yesterd night \n",
    "    \n",
    "    predictive analytics:\n",
    "        data analyst, build a model, that model is gonna predict type of problem he will get if ,\n",
    "        1. he has certain type of food\n",
    "        2. his temperature\n",
    "        3. his blood pressure.\n",
    "    \n",
    "    prescriptive analytics:doctor will recommend certain type of food, certain type healhy habbits, \n",
    "        to prevent that to happen again."
   ]
  }
 ],
 "metadata": {
  "kernelspec": {
   "display_name": "Python 3 (ipykernel)",
   "language": "python",
   "name": "python3"
  },
  "language_info": {
   "codemirror_mode": {
    "name": "ipython",
    "version": 3
   },
   "file_extension": ".py",
   "mimetype": "text/x-python",
   "name": "python",
   "nbconvert_exporter": "python",
   "pygments_lexer": "ipython3",
   "version": "3.11.2"
  }
 },
 "nbformat": 4,
 "nbformat_minor": 5
}
